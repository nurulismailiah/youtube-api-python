{
 "cells": [
  {
   "cell_type": "code",
   "execution_count": null,
   "id": "f96e2ae0",
   "metadata": {},
   "outputs": [],
   "source": [
    "!pip install psycopg2\n",
    "import psycopg2 as ps\n",
    "import pandas as pd"
   ]
  },
  {
   "cell_type": "code",
   "execution_count": 243,
   "id": "532d3ef2",
   "metadata": {},
   "outputs": [
    {
     "data": {
      "text/html": [
       "<div>\n",
       "<style scoped>\n",
       "    .dataframe tbody tr th:only-of-type {\n",
       "        vertical-align: middle;\n",
       "    }\n",
       "\n",
       "    .dataframe tbody tr th {\n",
       "        vertical-align: top;\n",
       "    }\n",
       "\n",
       "    .dataframe thead th {\n",
       "        text-align: right;\n",
       "    }\n",
       "</style>\n",
       "<table border=\"1\" class=\"dataframe\">\n",
       "  <thead>\n",
       "    <tr style=\"text-align: right;\">\n",
       "      <th></th>\n",
       "      <th>title</th>\n",
       "      <th>published_date</th>\n",
       "      <th>views</th>\n",
       "      <th>likes</th>\n",
       "      <th>favorites</th>\n",
       "      <th>comments</th>\n",
       "    </tr>\n",
       "    <tr>\n",
       "      <th>video_id</th>\n",
       "      <th></th>\n",
       "      <th></th>\n",
       "      <th></th>\n",
       "      <th></th>\n",
       "      <th></th>\n",
       "      <th></th>\n",
       "    </tr>\n",
       "  </thead>\n",
       "  <tbody>\n",
       "    <tr>\n",
       "      <th>S8nPJU9xkNw</th>\n",
       "      <td>AMA #4: Maintain Motivation, Improve REM Sleep...</td>\n",
       "      <td>2023-02-24</td>\n",
       "      <td>73405</td>\n",
       "      <td>3346</td>\n",
       "      <td>0</td>\n",
       "      <td>156</td>\n",
       "    </tr>\n",
       "    <tr>\n",
       "      <th>q37ARYnRDGc</th>\n",
       "      <td>Dr. Andy Galpin: Optimal Nutrition &amp; Supplemen...</td>\n",
       "      <td>2023-02-22</td>\n",
       "      <td>137374</td>\n",
       "      <td>4025</td>\n",
       "      <td>0</td>\n",
       "      <td>554</td>\n",
       "    </tr>\n",
       "    <tr>\n",
       "      <th>x4m_PdFbu-s</th>\n",
       "      <td>How to Breathe Correctly for Optimal Health, M...</td>\n",
       "      <td>2023-02-20</td>\n",
       "      <td>210579</td>\n",
       "      <td>7639</td>\n",
       "      <td>0</td>\n",
       "      <td>1086</td>\n",
       "    </tr>\n",
       "    <tr>\n",
       "      <th>juD99_sPWGU</th>\n",
       "      <td>Dr. Andy Galpin: Maximize Recovery to Achieve ...</td>\n",
       "      <td>2023-02-15</td>\n",
       "      <td>169357</td>\n",
       "      <td>3853</td>\n",
       "      <td>0</td>\n",
       "      <td>407</td>\n",
       "    </tr>\n",
       "    <tr>\n",
       "      <th>BMTt8gSl13s</th>\n",
       "      <td>Dr. Gina Poe: Use Sleep to Enhance Learning, M...</td>\n",
       "      <td>2023-02-13</td>\n",
       "      <td>273016</td>\n",
       "      <td>7495</td>\n",
       "      <td>0</td>\n",
       "      <td>660</td>\n",
       "    </tr>\n",
       "  </tbody>\n",
       "</table>\n",
       "</div>"
      ],
      "text/plain": [
       "                                                         title published_date  \\\n",
       "video_id                                                                        \n",
       "S8nPJU9xkNw  AMA #4: Maintain Motivation, Improve REM Sleep...     2023-02-24   \n",
       "q37ARYnRDGc  Dr. Andy Galpin: Optimal Nutrition & Supplemen...     2023-02-22   \n",
       "x4m_PdFbu-s  How to Breathe Correctly for Optimal Health, M...     2023-02-20   \n",
       "juD99_sPWGU  Dr. Andy Galpin: Maximize Recovery to Achieve ...     2023-02-15   \n",
       "BMTt8gSl13s  Dr. Gina Poe: Use Sleep to Enhance Learning, M...     2023-02-13   \n",
       "\n",
       "              views  likes  favorites  comments  \n",
       "video_id                                         \n",
       "S8nPJU9xkNw   73405   3346          0       156  \n",
       "q37ARYnRDGc  137374   4025          0       554  \n",
       "x4m_PdFbu-s  210579   7639          0      1086  \n",
       "juD99_sPWGU  169357   3853          0       407  \n",
       "BMTt8gSl13s  273016   7495          0       660  "
      ]
     },
     "execution_count": 243,
     "metadata": {},
     "output_type": "execute_result"
    }
   ],
   "source": [
    "df = pd.read_csv(\"Andrew H Youtube.csv\", index_col = 0)\n",
    "df.head()"
   ]
  },
  {
   "cell_type": "code",
   "execution_count": null,
   "id": "a0c608b8",
   "metadata": {},
   "outputs": [],
   "source": [
    "#connect to database\n",
    "def connect_to_db(host_name, dbname, port, username, password):\n",
    "    try:\n",
    "        conn = ps.connect(\n",
    "                host = host_name, \n",
    "                database = dbname,\n",
    "                port = port,\n",
    "                user = username, \n",
    "                password = password)\n",
    "\n",
    "    except ps.OperationalError as err:\n",
    "        raise err\n",
    "    else:\n",
    "        print('Database Connected!')\n",
    "    return conn"
   ]
  },
  {
   "cell_type": "code",
   "execution_count": null,
   "id": "f5706a0a",
   "metadata": {},
   "outputs": [],
   "source": [
    "#create new table if not exists\n",
    "def create_table(curr):\n",
    "    #create an object and write the SQL command in it with being commented \n",
    "    #to execute a query in the database\n",
    "    create_table_command = (\"\"\"CREATE TABLE IF NOT EXISTS yt_videos(\n",
    "                        id VARCHAR (255) PRIMARY KEY,\n",
    "                        title TEXT NOT NULL,\n",
    "                        published_date DATE NOT NULL DEFAULT CURRENT_DATE,\n",
    "                        views INTEGER NOT NULL,\n",
    "                        likes INTEGER NOT NULL,\n",
    "                        favorites INTEGER NOT NULL,\n",
    "                        comments INTEGER NOT NULL\n",
    "                        )\"\"\") \n",
    "    \n",
    "    curr.execute(create_table_command) #call the execute method to executing the SQL command"
   ]
  },
  {
   "cell_type": "code",
   "execution_count": null,
   "id": "cfd3cc7a",
   "metadata": {},
   "outputs": [],
   "source": [
    "def insert_into_table(curr, id, title, published_date, views, likes, favorites, comments):\n",
    "    insert_into_videos = (\"\"\"INSERT INTO videos (id, title, published_date, views, likes, favorites, comments)\n",
    "    VALUES(%s,%s,%s,%s,%s,%s,%s);\"\"\")\n",
    "    row_to_insert = (id, title, published_date, views, likes, favorites, comments)\n",
    "    curr.execute(insert_into_videos, row_to_insert)"
   ]
  },
  {
   "cell_type": "code",
   "execution_count": null,
   "id": "e475fb2a",
   "metadata": {},
   "outputs": [],
   "source": [
    "#check if video exists\n",
    "def check_if_video_exists(curr,id):\n",
    "    query = (\"\"\"SELECT id FROM yt_videos WHERE id = %s\"\"\")\n",
    "    \n",
    "    curr.execute(query, (id, ))\n",
    "    return curr.fetchone() is not None"
   ]
  },
  {
   "cell_type": "code",
   "execution_count": null,
   "id": "6c767e67",
   "metadata": {},
   "outputs": [],
   "source": [
    "#update row if video exists\n",
    "def update_row(curr, id, title, views, likes, favorites, comments):\n",
    "    query = (\"\"\"UPDATE yt_videos\n",
    "            SET title=%s,\n",
    "                views=%s,\n",
    "                likes=%s,\n",
    "                favorites=%s,\n",
    "                comments=%s\n",
    "            WHERE id=%s;\"\"\")\n",
    "    vars_to_update = (id, title, views, likes, favorites, comments)\n",
    "    curr.execute(query, vars_to_update)"
   ]
  },
  {
   "cell_type": "code",
   "execution_count": null,
   "id": "ba88e79c",
   "metadata": {},
   "outputs": [],
   "source": [
    "def append_from_df_to_db(curr,df):\n",
    "    for i, row in df.iterrows():\n",
    "        insert_into_table(curr, row['id'], row['title'], row['published_date'], row['views']\n",
    "                          , row['likes'], row['favorites'], row['comments'])"
   ]
  },
  {
   "cell_type": "code",
   "execution_count": 241,
   "id": "312a80ec",
   "metadata": {},
   "outputs": [],
   "source": [
    "def update_db(curr,df):\n",
    "    tmp_df = pd.DataFrame(columns=['id', 'title', 'published_date', 'counts',\n",
    "                                   'likes', 'favorites', 'comments'])\n",
    "    for i, row in df.iterrows():\n",
    "        if check_if_video_exists(curr, row['id']): # If video already exists then we will update\n",
    "            update_row(curr,row['id'],row['title'],row['counts'],row['likes'],row['favorites'],row['comments'])\n",
    "        else: # The video doesn't exists so we will add it to a temp df and append it using append_from_df_to_db\n",
    "            tmp_df = tmp_df.append(row)\n",
    "\n",
    "    return tmp_df"
   ]
  },
  {
   "cell_type": "code",
   "execution_count": null,
   "id": "ca3c610e",
   "metadata": {
    "scrolled": true
   },
   "outputs": [],
   "source": [
    "#database credential\n",
    "host_name = \"andrew-youtube-db.cootwpp9lr0f.ap-northeast-1.rds.amazonaws.com\"\n",
    "dbname = \"db_youtube_andrew\"\n",
    "port = \"5432\"\n",
    "username = \"postgres\"\n",
    "password = \"zy4dd1n4y\"\n",
    "conn = None\n",
    "\n",
    "#connect to database\n",
    "conn = connect_to_db(host_name, dbname, port, username, password)\n",
    "curr = conn.cursor()"
   ]
  },
  {
   "cell_type": "code",
   "execution_count": null,
   "id": "b23d7637",
   "metadata": {},
   "outputs": [],
   "source": [
    "#Create table\n",
    "create_table(curr)"
   ]
  },
  {
   "cell_type": "code",
   "execution_count": null,
   "id": "f4813c5e",
   "metadata": {},
   "outputs": [],
   "source": [
    "conn.commit()"
   ]
  },
  {
   "cell_type": "code",
   "execution_count": null,
   "id": "202cadc6",
   "metadata": {},
   "outputs": [],
   "source": [
    "new_vid_df = update_db(curr, df)"
   ]
  },
  {
   "cell_type": "code",
   "execution_count": null,
   "id": "13e73743",
   "metadata": {},
   "outputs": [],
   "source": [
    "#Insert data in db table\n",
    "append_from_df_to_db(curr,new_vid_df)"
   ]
  }
 ],
 "metadata": {
  "kernelspec": {
   "display_name": "Python 3 (ipykernel)",
   "language": "python",
   "name": "python3"
  },
  "language_info": {
   "codemirror_mode": {
    "name": "ipython",
    "version": 3
   },
   "file_extension": ".py",
   "mimetype": "text/x-python",
   "name": "python",
   "nbconvert_exporter": "python",
   "pygments_lexer": "ipython3",
   "version": "3.11.2"
  }
 },
 "nbformat": 4,
 "nbformat_minor": 5
}
